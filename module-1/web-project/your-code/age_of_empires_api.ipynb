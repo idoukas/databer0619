{
 "cells": [
  {
   "cell_type": "code",
   "execution_count": null,
   "metadata": {},
   "outputs": [],
   "source": [
    "import requests\n",
    "from bs4 import BeautifulSoup\n",
    "import pandas as pd\n",
    "from pprint import pprint\n",
    "from lxml import html\n",
    "from lxml.html import fromstring\n",
    "import urllib.request\n",
    "from urllib.request import urlopen\n",
    "import random\n",
    "import re\n",
    "import scrapy\n",
    "import json\n",
    "import requests"
   ]
  },
  {
   "cell_type": "code",
   "execution_count": null,
   "metadata": {},
   "outputs": [],
   "source": [
    "url = 'https://age-of-empires-2-api.herokuapp.com/api/v1/civilizations'"
   ]
  },
  {
   "cell_type": "code",
   "execution_count": null,
   "metadata": {},
   "outputs": [],
   "source": [
    "response = requests.get(url)\n",
    "results = response.json()\n"
   ]
  },
  {
   "cell_type": "code",
   "execution_count": null,
   "metadata": {},
   "outputs": [],
   "source": [
    "result = requests.get(url)\n",
    "bc = result.json()\n",
    "result"
   ]
  },
  {
   "cell_type": "code",
   "execution_count": null,
   "metadata": {},
   "outputs": [],
   "source": [
    "bc = result.json()"
   ]
  },
  {
   "cell_type": "code",
   "execution_count": null,
   "metadata": {},
   "outputs": [],
   "source": [
    "df_bc = pd.DataFrame(bc['civilizations'], columns =['name', 'expansion', 'army_type', 'unique_unit', 'unique_tech', 'team_bonus', 'civilization_bonus'])\n",
    "df_bc.head(18)"
   ]
  },
  {
   "cell_type": "code",
   "execution_count": null,
   "metadata": {},
   "outputs": [],
   "source": [
    "print(df_bc['unique_unit'])"
   ]
  },
  {
   "cell_type": "code",
   "execution_count": null,
   "metadata": {},
   "outputs": [],
   "source": [
    "for x in df_bc['unique_unit']:\n",
    "    print (x), print (type(x))\n",
    "\n"
   ]
  },
  {
   "cell_type": "code",
   "execution_count": null,
   "metadata": {},
   "outputs": [],
   "source": [
    "list_unit =[]\n",
    "for y in df_bc['unique_tech']:\n",
    "    temp = []\n",
    "    for names in y:\n",
    "        temp.append(names.replace('https://age-of-empires-2-api.herokuapp.com/api/v1/technology/', ''))\n",
    "    list_unit.append(temp)\n",
    "list_unit        "
   ]
  },
  {
   "cell_type": "code",
   "execution_count": null,
   "metadata": {},
   "outputs": [],
   "source": [
    "df_bc['unique_tech'] = list_unit\n",
    "df_bc.head(20)"
   ]
  },
  {
   "cell_type": "code",
   "execution_count": null,
   "metadata": {},
   "outputs": [],
   "source": [
    "list_tech = []\n",
    "for x in df_bc['unique_unit']:\n",
    "    temp2 = []\n",
    "    for names in x:\n",
    "        temp2.append(names.replace('https://age-of-empires-2-api.herokuapp.com/api/v1/unit/', ''))\n",
    "        list_tech.append(temp2)\n",
    "list_tech"
   ]
  },
  {
   "cell_type": "code",
   "execution_count": null,
   "metadata": {},
   "outputs": [],
   "source": [
    "df_bc['unique_tech'] = list_unit\n"
   ]
  },
  {
   "cell_type": "code",
   "execution_count": null,
   "metadata": {},
   "outputs": [],
   "source": [
    "df_bc['unique_unit'][0][0].replace('https://age-of-empires-2-api.herokuapp.com/api/v1/unit/', '')"
   ]
  },
  {
   "cell_type": "code",
   "execution_count": null,
   "metadata": {},
   "outputs": [],
   "source": []
  },
  {
   "cell_type": "code",
   "execution_count": null,
   "metadata": {},
   "outputs": [],
   "source": [
    "{\n",
    "  \"id\": 79, \n",
    "  \"name\": \"Jaguar Warrior\", \n",
    "  \"description\": \"Aztec unique unit. Attack bonus vs. other infantry\", \n",
    "  \"expansion\": \"The Conquerors\", \n",
    "  \"age\": \"Castle\", \n",
    "  \"created_in\": \"https://age-of-empires-2-api.herokuapp.com/api/v1/structure/castle\", \n",
    "  \"cost\": {\n",
    "    \"Food\": 60, \n",
    "    \"Gold\": 30\n",
    "  }, \n",
    "  \"build_time\": 17, \n",
    "  \"reload_time\": 2.0, \n",
    "  \"movement_rate\": 1.0, \n",
    "  \"line_of_sight\": 3, \n",
    "  \"hit_points\": 50, \n",
    "  \"attack\": 10, \n",
    "  \"armor\": \"1/0\", \n",
    "  \"attack_bonus\": [\n",
    "    \"+12 eagles\", \n",
    "    \"+2 buildings\", \n",
    "    \"+10 infantry\"\n",
    "  ]\n",
    "}"
   ]
  },
  {
   "cell_type": "code",
   "execution_count": null,
   "metadata": {},
   "outputs": [],
   "source": []
  },
  {
   "cell_type": "code",
   "execution_count": null,
   "metadata": {},
   "outputs": [],
   "source": []
  },
  {
   "cell_type": "code",
   "execution_count": null,
   "metadata": {},
   "outputs": [],
   "source": []
  },
  {
   "cell_type": "code",
   "execution_count": null,
   "metadata": {},
   "outputs": [],
   "source": [
    "\n"
   ]
  },
  {
   "cell_type": "code",
   "execution_count": null,
   "metadata": {},
   "outputs": [],
   "source": []
  },
  {
   "cell_type": "code",
   "execution_count": null,
   "metadata": {},
   "outputs": [],
   "source": []
  },
  {
   "cell_type": "code",
   "execution_count": null,
   "metadata": {},
   "outputs": [],
   "source": []
  }
 ],
 "metadata": {
  "kernelspec": {
   "display_name": "Python 3",
   "language": "python",
   "name": "python3"
  },
  "language_info": {
   "codemirror_mode": {
    "name": "ipython",
    "version": 3
   },
   "file_extension": ".py",
   "mimetype": "text/x-python",
   "name": "python",
   "nbconvert_exporter": "python",
   "pygments_lexer": "ipython3",
   "version": "3.7.3"
  }
 },
 "nbformat": 4,
 "nbformat_minor": 2
}
