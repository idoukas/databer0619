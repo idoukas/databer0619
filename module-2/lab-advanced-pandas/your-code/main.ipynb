{
 "cells": [
  {
   "cell_type": "markdown",
   "metadata": {},
   "source": [
    "# Before your start:\n",
    "- Read the README.md file\n",
    "- Comment as much as you can and use the resources (README.md file)\n",
    "- Happy learning!"
   ]
  },
  {
   "cell_type": "code",
   "execution_count": 1,
   "metadata": {},
   "outputs": [],
   "source": [
    "# import numpy and pandas\n",
    "\n",
    "import pandas as pd\n",
    "import numpy as np\n",
    "from pandas import RangeIndex"
   ]
  },
  {
   "cell_type": "markdown",
   "metadata": {},
   "source": [
    "# Challenge 1 - Index Functions\n",
    "\n",
    "In this challenge, we will practice the advanced functions introduced in the lesson. However, before we start, we will load and evaluate our dataset."
   ]
  },
  {
   "cell_type": "code",
   "execution_count": 2,
   "metadata": {},
   "outputs": [],
   "source": [
    "# Run this code:\n",
    "\n",
    "admissions = pd.read_csv('../Admission_Predict.csv')\n",
    "#to remove trailing spaces at the end of the column names\n",
    "admissions.columns = admissions.columns.str.rstrip()"
   ]
  },
  {
   "cell_type": "markdown",
   "metadata": {},
   "source": [
    "Let's evaluate the dataset by looking at the `head` function."
   ]
  },
  {
   "cell_type": "code",
   "execution_count": 3,
   "metadata": {},
   "outputs": [
    {
     "data": {
      "text/html": [
       "<div>\n",
       "<style scoped>\n",
       "    .dataframe tbody tr th:only-of-type {\n",
       "        vertical-align: middle;\n",
       "    }\n",
       "\n",
       "    .dataframe tbody tr th {\n",
       "        vertical-align: top;\n",
       "    }\n",
       "\n",
       "    .dataframe thead th {\n",
       "        text-align: right;\n",
       "    }\n",
       "</style>\n",
       "<table border=\"1\" class=\"dataframe\">\n",
       "  <thead>\n",
       "    <tr style=\"text-align: right;\">\n",
       "      <th></th>\n",
       "      <th>Serial No.</th>\n",
       "      <th>GRE Score</th>\n",
       "      <th>TOEFL Score</th>\n",
       "      <th>University Rating</th>\n",
       "      <th>SOP</th>\n",
       "      <th>LOR</th>\n",
       "      <th>CGPA</th>\n",
       "      <th>Research</th>\n",
       "      <th>Chance of Admit</th>\n",
       "    </tr>\n",
       "  </thead>\n",
       "  <tbody>\n",
       "    <tr>\n",
       "      <th>0</th>\n",
       "      <td>1</td>\n",
       "      <td>337</td>\n",
       "      <td>118</td>\n",
       "      <td>4</td>\n",
       "      <td>4.5</td>\n",
       "      <td>4.5</td>\n",
       "      <td>9.65</td>\n",
       "      <td>1</td>\n",
       "      <td>0.92</td>\n",
       "    </tr>\n",
       "    <tr>\n",
       "      <th>1</th>\n",
       "      <td>2</td>\n",
       "      <td>316</td>\n",
       "      <td>104</td>\n",
       "      <td>3</td>\n",
       "      <td>3.0</td>\n",
       "      <td>3.5</td>\n",
       "      <td>8.00</td>\n",
       "      <td>1</td>\n",
       "      <td>0.72</td>\n",
       "    </tr>\n",
       "    <tr>\n",
       "      <th>2</th>\n",
       "      <td>3</td>\n",
       "      <td>322</td>\n",
       "      <td>110</td>\n",
       "      <td>3</td>\n",
       "      <td>3.5</td>\n",
       "      <td>2.5</td>\n",
       "      <td>8.67</td>\n",
       "      <td>1</td>\n",
       "      <td>0.80</td>\n",
       "    </tr>\n",
       "    <tr>\n",
       "      <th>3</th>\n",
       "      <td>4</td>\n",
       "      <td>314</td>\n",
       "      <td>103</td>\n",
       "      <td>2</td>\n",
       "      <td>2.0</td>\n",
       "      <td>3.0</td>\n",
       "      <td>8.21</td>\n",
       "      <td>0</td>\n",
       "      <td>0.65</td>\n",
       "    </tr>\n",
       "    <tr>\n",
       "      <th>4</th>\n",
       "      <td>5</td>\n",
       "      <td>330</td>\n",
       "      <td>115</td>\n",
       "      <td>5</td>\n",
       "      <td>4.5</td>\n",
       "      <td>3.0</td>\n",
       "      <td>9.34</td>\n",
       "      <td>1</td>\n",
       "      <td>0.90</td>\n",
       "    </tr>\n",
       "  </tbody>\n",
       "</table>\n",
       "</div>"
      ],
      "text/plain": [
       "   Serial No.  GRE Score  TOEFL Score  University Rating  SOP  LOR  CGPA  \\\n",
       "0           1        337          118                  4  4.5  4.5  9.65   \n",
       "1           2        316          104                  3  3.0  3.5  8.00   \n",
       "2           3        322          110                  3  3.5  2.5  8.67   \n",
       "3           4        314          103                  2  2.0  3.0  8.21   \n",
       "4           5        330          115                  5  4.5  3.0  9.34   \n",
       "\n",
       "   Research  Chance of Admit  \n",
       "0         1             0.92  \n",
       "1         1             0.72  \n",
       "2         1             0.80  \n",
       "3         0             0.65  \n",
       "4         1             0.90  "
      ]
     },
     "execution_count": 3,
     "metadata": {},
     "output_type": "execute_result"
    }
   ],
   "source": [
    "# Your code here:\n",
    "admissions.head()\n"
   ]
  },
  {
   "cell_type": "markdown",
   "metadata": {},
   "source": [
    "Before beginning to work with this dataset and evaluating graduate admissions data, we will verify that there is no missing data in the dataset. Do this in the cell below."
   ]
  },
  {
   "cell_type": "code",
   "execution_count": 4,
   "metadata": {},
   "outputs": [
    {
     "name": "stdout",
     "output_type": "stream",
     "text": [
      "<class 'pandas.core.frame.DataFrame'>\n",
      "RangeIndex: 385 entries, 0 to 384\n",
      "Data columns (total 9 columns):\n",
      "Serial No.           385 non-null int64\n",
      "GRE Score            385 non-null int64\n",
      "TOEFL Score          385 non-null int64\n",
      "University Rating    385 non-null int64\n",
      "SOP                  385 non-null float64\n",
      "LOR                  385 non-null float64\n",
      "CGPA                 385 non-null float64\n",
      "Research             385 non-null int64\n",
      "Chance of Admit      385 non-null float64\n",
      "dtypes: float64(4), int64(5)\n",
      "memory usage: 27.1 KB\n"
     ]
    }
   ],
   "source": [
    "# Your code here:\n",
    "admissions.info()\n"
   ]
  },
  {
   "cell_type": "markdown",
   "metadata": {},
   "source": [
    "Interestingly, there is a column that uniquely identifies the applicants. This column is the serial number column. Instead of having our own index, we should make this column our index. Do this in the cell below. Keep the column in the dataframe in addition to making it an index."
   ]
  },
  {
   "cell_type": "code",
   "execution_count": 5,
   "metadata": {},
   "outputs": [
    {
     "data": {
      "text/html": [
       "<div>\n",
       "<style scoped>\n",
       "    .dataframe tbody tr th:only-of-type {\n",
       "        vertical-align: middle;\n",
       "    }\n",
       "\n",
       "    .dataframe tbody tr th {\n",
       "        vertical-align: top;\n",
       "    }\n",
       "\n",
       "    .dataframe thead th {\n",
       "        text-align: right;\n",
       "    }\n",
       "</style>\n",
       "<table border=\"1\" class=\"dataframe\">\n",
       "  <thead>\n",
       "    <tr style=\"text-align: right;\">\n",
       "      <th></th>\n",
       "      <th>GRE Score</th>\n",
       "      <th>TOEFL Score</th>\n",
       "      <th>University Rating</th>\n",
       "      <th>SOP</th>\n",
       "      <th>LOR</th>\n",
       "      <th>CGPA</th>\n",
       "      <th>Research</th>\n",
       "      <th>Chance of Admit</th>\n",
       "    </tr>\n",
       "    <tr>\n",
       "      <th>Serial No.</th>\n",
       "      <th></th>\n",
       "      <th></th>\n",
       "      <th></th>\n",
       "      <th></th>\n",
       "      <th></th>\n",
       "      <th></th>\n",
       "      <th></th>\n",
       "      <th></th>\n",
       "    </tr>\n",
       "  </thead>\n",
       "  <tbody>\n",
       "    <tr>\n",
       "      <th>1</th>\n",
       "      <td>337</td>\n",
       "      <td>118</td>\n",
       "      <td>4</td>\n",
       "      <td>4.5</td>\n",
       "      <td>4.5</td>\n",
       "      <td>9.65</td>\n",
       "      <td>1</td>\n",
       "      <td>0.92</td>\n",
       "    </tr>\n",
       "    <tr>\n",
       "      <th>2</th>\n",
       "      <td>316</td>\n",
       "      <td>104</td>\n",
       "      <td>3</td>\n",
       "      <td>3.0</td>\n",
       "      <td>3.5</td>\n",
       "      <td>8.00</td>\n",
       "      <td>1</td>\n",
       "      <td>0.72</td>\n",
       "    </tr>\n",
       "    <tr>\n",
       "      <th>3</th>\n",
       "      <td>322</td>\n",
       "      <td>110</td>\n",
       "      <td>3</td>\n",
       "      <td>3.5</td>\n",
       "      <td>2.5</td>\n",
       "      <td>8.67</td>\n",
       "      <td>1</td>\n",
       "      <td>0.80</td>\n",
       "    </tr>\n",
       "    <tr>\n",
       "      <th>4</th>\n",
       "      <td>314</td>\n",
       "      <td>103</td>\n",
       "      <td>2</td>\n",
       "      <td>2.0</td>\n",
       "      <td>3.0</td>\n",
       "      <td>8.21</td>\n",
       "      <td>0</td>\n",
       "      <td>0.65</td>\n",
       "    </tr>\n",
       "    <tr>\n",
       "      <th>5</th>\n",
       "      <td>330</td>\n",
       "      <td>115</td>\n",
       "      <td>5</td>\n",
       "      <td>4.5</td>\n",
       "      <td>3.0</td>\n",
       "      <td>9.34</td>\n",
       "      <td>1</td>\n",
       "      <td>0.90</td>\n",
       "    </tr>\n",
       "  </tbody>\n",
       "</table>\n",
       "</div>"
      ],
      "text/plain": [
       "            GRE Score  TOEFL Score  University Rating  SOP  LOR  CGPA  \\\n",
       "Serial No.                                                              \n",
       "1                 337          118                  4  4.5  4.5  9.65   \n",
       "2                 316          104                  3  3.0  3.5  8.00   \n",
       "3                 322          110                  3  3.5  2.5  8.67   \n",
       "4                 314          103                  2  2.0  3.0  8.21   \n",
       "5                 330          115                  5  4.5  3.0  9.34   \n",
       "\n",
       "            Research  Chance of Admit  \n",
       "Serial No.                             \n",
       "1                  1             0.92  \n",
       "2                  1             0.72  \n",
       "3                  1             0.80  \n",
       "4                  0             0.65  \n",
       "5                  1             0.90  "
      ]
     },
     "execution_count": 5,
     "metadata": {},
     "output_type": "execute_result"
    }
   ],
   "source": [
    "# Your code here:\n",
    "admissions.set_index('Serial No.', inplace=True)\n",
    "admissions.head()\n"
   ]
  },
  {
   "cell_type": "markdown",
   "metadata": {},
   "source": [
    "Turns out that `GRE Score` and `CGPA` also uniquely identify the data. Show this in the cell below."
   ]
  },
  {
   "cell_type": "code",
   "execution_count": 6,
   "metadata": {},
   "outputs": [
    {
     "data": {
      "text/html": [
       "<div>\n",
       "<style scoped>\n",
       "    .dataframe tbody tr th:only-of-type {\n",
       "        vertical-align: middle;\n",
       "    }\n",
       "\n",
       "    .dataframe tbody tr th {\n",
       "        vertical-align: top;\n",
       "    }\n",
       "\n",
       "    .dataframe thead th {\n",
       "        text-align: right;\n",
       "    }\n",
       "</style>\n",
       "<table border=\"1\" class=\"dataframe\">\n",
       "  <thead>\n",
       "    <tr style=\"text-align: right;\">\n",
       "      <th></th>\n",
       "      <th></th>\n",
       "      <th>University Rating</th>\n",
       "      <th>SOP</th>\n",
       "      <th>LOR</th>\n",
       "      <th>CGPA</th>\n",
       "      <th>Research</th>\n",
       "      <th>Chance of Admit</th>\n",
       "    </tr>\n",
       "    <tr>\n",
       "      <th>GRE Score</th>\n",
       "      <th>TOEFL Score</th>\n",
       "      <th></th>\n",
       "      <th></th>\n",
       "      <th></th>\n",
       "      <th></th>\n",
       "      <th></th>\n",
       "      <th></th>\n",
       "    </tr>\n",
       "  </thead>\n",
       "  <tbody>\n",
       "    <tr>\n",
       "      <th>337</th>\n",
       "      <th>118</th>\n",
       "      <td>4</td>\n",
       "      <td>4.5</td>\n",
       "      <td>4.5</td>\n",
       "      <td>9.65</td>\n",
       "      <td>1</td>\n",
       "      <td>0.92</td>\n",
       "    </tr>\n",
       "    <tr>\n",
       "      <th>316</th>\n",
       "      <th>104</th>\n",
       "      <td>3</td>\n",
       "      <td>3.0</td>\n",
       "      <td>3.5</td>\n",
       "      <td>8.00</td>\n",
       "      <td>1</td>\n",
       "      <td>0.72</td>\n",
       "    </tr>\n",
       "    <tr>\n",
       "      <th>322</th>\n",
       "      <th>110</th>\n",
       "      <td>3</td>\n",
       "      <td>3.5</td>\n",
       "      <td>2.5</td>\n",
       "      <td>8.67</td>\n",
       "      <td>1</td>\n",
       "      <td>0.80</td>\n",
       "    </tr>\n",
       "    <tr>\n",
       "      <th>314</th>\n",
       "      <th>103</th>\n",
       "      <td>2</td>\n",
       "      <td>2.0</td>\n",
       "      <td>3.0</td>\n",
       "      <td>8.21</td>\n",
       "      <td>0</td>\n",
       "      <td>0.65</td>\n",
       "    </tr>\n",
       "    <tr>\n",
       "      <th>330</th>\n",
       "      <th>115</th>\n",
       "      <td>5</td>\n",
       "      <td>4.5</td>\n",
       "      <td>3.0</td>\n",
       "      <td>9.34</td>\n",
       "      <td>1</td>\n",
       "      <td>0.90</td>\n",
       "    </tr>\n",
       "  </tbody>\n",
       "</table>\n",
       "</div>"
      ],
      "text/plain": [
       "                       University Rating  SOP  LOR  CGPA  Research  \\\n",
       "GRE Score TOEFL Score                                                \n",
       "337       118                          4  4.5  4.5  9.65         1   \n",
       "316       104                          3  3.0  3.5  8.00         1   \n",
       "322       110                          3  3.5  2.5  8.67         1   \n",
       "314       103                          2  2.0  3.0  8.21         0   \n",
       "330       115                          5  4.5  3.0  9.34         1   \n",
       "\n",
       "                       Chance of Admit  \n",
       "GRE Score TOEFL Score                   \n",
       "337       118                     0.92  \n",
       "316       104                     0.72  \n",
       "322       110                     0.80  \n",
       "314       103                     0.65  \n",
       "330       115                     0.90  "
      ]
     },
     "execution_count": 6,
     "metadata": {},
     "output_type": "execute_result"
    }
   ],
   "source": [
    "# Your code here:\n",
    "\n",
    "admissions.drop_duplicates(subset=['GRE Score', 'TOEFL Score'], inplace=True)\n",
    "\n",
    "admissions.set_index(['GRE Score','TOEFL Score'], inplace=True)\n",
    "admissions.head()\n"
   ]
  },
  {
   "cell_type": "markdown",
   "metadata": {},
   "source": [
    "Replace the index with an index comprised of two columns - `GRE Score` and `CGPA`. Remove the columns from the dataset as well. Make sure to use `inplace=True`."
   ]
  },
  {
   "cell_type": "markdown",
   "metadata": {},
   "source": [
    "Now change the index back to a sequence starting at zero using the `reset_index` function. Make sure to use `inplace=True`."
   ]
  },
  {
   "cell_type": "code",
   "execution_count": 7,
   "metadata": {},
   "outputs": [],
   "source": [
    "# Your code here:\n",
    "admissions.reset_index(inplace=True)\n"
   ]
  },
  {
   "cell_type": "markdown",
   "metadata": {},
   "source": [
    "# Challenge 2 - Advanced Functions\n",
    "\n",
    "In this part of the lab, we would like to test complex conditions on the entire dataset at once. Let's start by finding the number of rows where the CGPA is higher than 9 and the student has conducted research."
   ]
  },
  {
   "cell_type": "code",
   "execution_count": 8,
   "metadata": {},
   "outputs": [
    {
     "data": {
      "text/plain": [
       "68"
      ]
     },
     "execution_count": 8,
     "metadata": {},
     "output_type": "execute_result"
    }
   ],
   "source": [
    "sum(admissions.eval('CGPA > 9 & Research == 1'))"
   ]
  },
  {
   "cell_type": "code",
   "execution_count": 9,
   "metadata": {},
   "outputs": [
    {
     "ename": "ValueError",
     "evalue": "The truth value of a Series is ambiguous. Use a.empty, a.bool(), a.item(), a.any() or a.all().",
     "output_type": "error",
     "traceback": [
      "\u001b[0;31m---------------------------------------------------------------------------\u001b[0m",
      "\u001b[0;31mValueError\u001b[0m                                Traceback (most recent call last)",
      "\u001b[0;32m<ipython-input-9-605c6bbdd4aa>\u001b[0m in \u001b[0;36m<module>\u001b[0;34m\u001b[0m\n\u001b[1;32m      1\u001b[0m \u001b[0;31m# Your code here:\u001b[0m\u001b[0;34m\u001b[0m\u001b[0;34m\u001b[0m\u001b[0;34m\u001b[0m\u001b[0m\n\u001b[1;32m      2\u001b[0m \u001b[0;34m\u001b[0m\u001b[0m\n\u001b[0;32m----> 3\u001b[0;31m \u001b[0madmissions\u001b[0m\u001b[0;34m.\u001b[0m\u001b[0mloc\u001b[0m\u001b[0;34m(\u001b[0m\u001b[0madmissions\u001b[0m\u001b[0;34m.\u001b[0m\u001b[0mCGPA\u001b[0m \u001b[0;34m>\u001b[0m \u001b[0;36m9\u001b[0m \u001b[0;34m&\u001b[0m \u001b[0madmissions\u001b[0m\u001b[0;34m.\u001b[0m\u001b[0mResearch\u001b[0m \u001b[0;34m==\u001b[0m \u001b[0;36m1\u001b[0m\u001b[0;34m)\u001b[0m\u001b[0;34m.\u001b[0m\u001b[0mall\u001b[0m\u001b[0;34m(\u001b[0m\u001b[0;34m)\u001b[0m\u001b[0;34m\u001b[0m\u001b[0;34m\u001b[0m\u001b[0m\n\u001b[0m",
      "\u001b[0;32m/anaconda3/lib/python3.7/site-packages/pandas/core/generic.py\u001b[0m in \u001b[0;36m__nonzero__\u001b[0;34m(self)\u001b[0m\n\u001b[1;32m   1476\u001b[0m         raise ValueError(\"The truth value of a {0} is ambiguous. \"\n\u001b[1;32m   1477\u001b[0m                          \u001b[0;34m\"Use a.empty, a.bool(), a.item(), a.any() or a.all().\"\u001b[0m\u001b[0;34m\u001b[0m\u001b[0;34m\u001b[0m\u001b[0m\n\u001b[0;32m-> 1478\u001b[0;31m                          .format(self.__class__.__name__))\n\u001b[0m\u001b[1;32m   1479\u001b[0m \u001b[0;34m\u001b[0m\u001b[0m\n\u001b[1;32m   1480\u001b[0m     \u001b[0m__bool__\u001b[0m \u001b[0;34m=\u001b[0m \u001b[0m__nonzero__\u001b[0m\u001b[0;34m\u001b[0m\u001b[0;34m\u001b[0m\u001b[0m\n",
      "\u001b[0;31mValueError\u001b[0m: The truth value of a Series is ambiguous. Use a.empty, a.bool(), a.item(), a.any() or a.all()."
     ]
    }
   ],
   "source": [
    "# Your code here:\n",
    "\n",
    "admissions.loc(admissions.CGPA > 9 & admissions.Research == 1).all()\n"
   ]
  },
  {
   "cell_type": "code",
   "execution_count": 10,
   "metadata": {},
   "outputs": [
    {
     "data": {
      "text/plain": [
       "68"
      ]
     },
     "execution_count": 10,
     "metadata": {},
     "output_type": "execute_result"
    }
   ],
   "source": [
    "sum(admissions.eval('CGPA > 9 & Research == 1'))\n"
   ]
  },
  {
   "cell_type": "markdown",
   "metadata": {},
   "source": [
    "Now return all the rows where the CGPA is greater than 9 and the SOP score is less than 3.5. Find the mean chance of admit for these applicants."
   ]
  },
  {
   "cell_type": "code",
   "execution_count": 11,
   "metadata": {},
   "outputs": [
    {
     "data": {
      "text/plain": [
       "0.7975"
      ]
     },
     "execution_count": 11,
     "metadata": {},
     "output_type": "execute_result"
    }
   ],
   "source": [
    "# Your code here:\n",
    "\n",
    "np.mean(admissions.query('CGPA > 9 & SOP < 3.5')['Chance of Admit'])\n"
   ]
  },
  {
   "cell_type": "markdown",
   "metadata": {},
   "source": [
    "We would like to create a deciding factor column for each student. We standardize several columns and then pick the most important factor from a lookup table. If the standardized value is above 0.8, the student will be accepted.\n",
    "\n",
    "We will start by creating a standardized column for `CGPA`, `GRE Score` and `LOR`. We will name these columns `CGPA_std`, `GRE_std`, and `LOR_std` respecively.\n",
    "\n",
    "Recall that standardizing a column is done by subtracting the mean of the column from all observations in the column and then dividing each observation in the column by the column's standard deviation.\n",
    "\n",
    "In the cell below, write a standardization function (a function that takes a column as input and returns a standardized column as output). Make sure to use the `numpy` versions of mean and standard deviation."
   ]
  },
  {
   "cell_type": "code",
   "execution_count": 12,
   "metadata": {},
   "outputs": [],
   "source": [
    "def standardize(col):\n",
    "    # This function takes a column from a dataframe and returns a standardized column by subtracting the column's mean\n",
    "    # and dividing by the column's standard deviation.\n",
    "    \n",
    "    # Your code here:\n",
    "    return (col - np.mean(col)) / np.std(col)"
   ]
  },
  {
   "cell_type": "markdown",
   "metadata": {},
   "source": [
    "Now create the standardized columns `CGPA_std`, `GRE_std`, and `LOR_std` and add them to the `admissions` dataframe."
   ]
  },
  {
   "cell_type": "code",
   "execution_count": 13,
   "metadata": {},
   "outputs": [],
   "source": [
    "# Your code here:\n",
    "admissions['CGPA_std'] = standardize(admissions.CGPA)\n",
    "admissions['GRE_std'] = standardize(admissions['GRE Score'])\n",
    "admissions['LOR_std'] = standardize(admissions.LOR)\n"
   ]
  },
  {
   "cell_type": "markdown",
   "metadata": {},
   "source": [
    "We will generate the decision choice at random using the code below. Please run the cell."
   ]
  },
  {
   "cell_type": "code",
   "execution_count": 14,
   "metadata": {},
   "outputs": [],
   "source": [
    "# Run this code:\n",
    "\n",
    "from random import choices\n",
    "std_columns = ['CGPA_std', 'GRE_std', 'LOR_std']\n",
    "\n",
    "decision_choice = choices(std_columns, k=admissions.shape[0])"
   ]
  },
  {
   "cell_type": "markdown",
   "metadata": {},
   "source": [
    "Now create the deciding column using the `lookup` function. The lookup column is `decision_choice` found above. Call the column resulting from the lookup function `deciding_column` and add it to the `admissions` dataframe."
   ]
  },
  {
   "cell_type": "code",
   "execution_count": 15,
   "metadata": {},
   "outputs": [
    {
     "data": {
      "text/plain": [
       "['CGPA_std',\n",
       " 'GRE_std',\n",
       " 'CGPA_std',\n",
       " 'LOR_std',\n",
       " 'GRE_std',\n",
       " 'GRE_std',\n",
       " 'LOR_std',\n",
       " 'CGPA_std',\n",
       " 'GRE_std',\n",
       " 'GRE_std',\n",
       " 'GRE_std',\n",
       " 'LOR_std',\n",
       " 'CGPA_std',\n",
       " 'CGPA_std',\n",
       " 'CGPA_std',\n",
       " 'LOR_std',\n",
       " 'CGPA_std',\n",
       " 'GRE_std',\n",
       " 'GRE_std',\n",
       " 'GRE_std',\n",
       " 'GRE_std',\n",
       " 'CGPA_std',\n",
       " 'CGPA_std',\n",
       " 'CGPA_std',\n",
       " 'LOR_std',\n",
       " 'GRE_std',\n",
       " 'GRE_std',\n",
       " 'LOR_std',\n",
       " 'LOR_std',\n",
       " 'GRE_std',\n",
       " 'GRE_std',\n",
       " 'LOR_std',\n",
       " 'CGPA_std',\n",
       " 'GRE_std',\n",
       " 'GRE_std',\n",
       " 'LOR_std',\n",
       " 'CGPA_std',\n",
       " 'CGPA_std',\n",
       " 'LOR_std',\n",
       " 'GRE_std',\n",
       " 'LOR_std',\n",
       " 'CGPA_std',\n",
       " 'CGPA_std',\n",
       " 'GRE_std',\n",
       " 'CGPA_std',\n",
       " 'CGPA_std',\n",
       " 'LOR_std',\n",
       " 'LOR_std',\n",
       " 'GRE_std',\n",
       " 'CGPA_std',\n",
       " 'GRE_std',\n",
       " 'GRE_std',\n",
       " 'GRE_std',\n",
       " 'CGPA_std',\n",
       " 'LOR_std',\n",
       " 'LOR_std',\n",
       " 'LOR_std',\n",
       " 'GRE_std',\n",
       " 'GRE_std',\n",
       " 'LOR_std',\n",
       " 'GRE_std',\n",
       " 'GRE_std',\n",
       " 'CGPA_std',\n",
       " 'CGPA_std',\n",
       " 'CGPA_std',\n",
       " 'LOR_std',\n",
       " 'GRE_std',\n",
       " 'LOR_std',\n",
       " 'GRE_std',\n",
       " 'LOR_std',\n",
       " 'GRE_std',\n",
       " 'CGPA_std',\n",
       " 'CGPA_std',\n",
       " 'GRE_std',\n",
       " 'GRE_std',\n",
       " 'CGPA_std',\n",
       " 'LOR_std',\n",
       " 'LOR_std',\n",
       " 'LOR_std',\n",
       " 'GRE_std',\n",
       " 'LOR_std',\n",
       " 'CGPA_std',\n",
       " 'GRE_std',\n",
       " 'CGPA_std',\n",
       " 'LOR_std',\n",
       " 'LOR_std',\n",
       " 'CGPA_std',\n",
       " 'CGPA_std',\n",
       " 'GRE_std',\n",
       " 'LOR_std',\n",
       " 'LOR_std',\n",
       " 'LOR_std',\n",
       " 'GRE_std',\n",
       " 'GRE_std',\n",
       " 'LOR_std',\n",
       " 'GRE_std',\n",
       " 'LOR_std',\n",
       " 'LOR_std',\n",
       " 'GRE_std',\n",
       " 'LOR_std',\n",
       " 'LOR_std',\n",
       " 'CGPA_std',\n",
       " 'GRE_std',\n",
       " 'LOR_std',\n",
       " 'GRE_std',\n",
       " 'GRE_std',\n",
       " 'CGPA_std',\n",
       " 'CGPA_std',\n",
       " 'LOR_std',\n",
       " 'CGPA_std',\n",
       " 'CGPA_std',\n",
       " 'LOR_std',\n",
       " 'CGPA_std',\n",
       " 'LOR_std',\n",
       " 'CGPA_std',\n",
       " 'CGPA_std',\n",
       " 'CGPA_std',\n",
       " 'LOR_std',\n",
       " 'LOR_std',\n",
       " 'CGPA_std',\n",
       " 'CGPA_std',\n",
       " 'LOR_std',\n",
       " 'CGPA_std',\n",
       " 'CGPA_std',\n",
       " 'CGPA_std',\n",
       " 'LOR_std',\n",
       " 'GRE_std',\n",
       " 'CGPA_std',\n",
       " 'LOR_std',\n",
       " 'LOR_std',\n",
       " 'CGPA_std',\n",
       " 'LOR_std',\n",
       " 'LOR_std',\n",
       " 'LOR_std',\n",
       " 'LOR_std',\n",
       " 'LOR_std',\n",
       " 'GRE_std',\n",
       " 'CGPA_std',\n",
       " 'GRE_std',\n",
       " 'GRE_std',\n",
       " 'LOR_std',\n",
       " 'LOR_std',\n",
       " 'GRE_std',\n",
       " 'LOR_std',\n",
       " 'LOR_std',\n",
       " 'GRE_std',\n",
       " 'GRE_std',\n",
       " 'LOR_std',\n",
       " 'LOR_std',\n",
       " 'CGPA_std',\n",
       " 'LOR_std',\n",
       " 'LOR_std',\n",
       " 'GRE_std',\n",
       " 'GRE_std',\n",
       " 'CGPA_std',\n",
       " 'LOR_std',\n",
       " 'CGPA_std',\n",
       " 'LOR_std',\n",
       " 'LOR_std',\n",
       " 'LOR_std',\n",
       " 'GRE_std',\n",
       " 'GRE_std',\n",
       " 'GRE_std',\n",
       " 'CGPA_std',\n",
       " 'CGPA_std',\n",
       " 'GRE_std',\n",
       " 'LOR_std',\n",
       " 'GRE_std',\n",
       " 'LOR_std',\n",
       " 'LOR_std',\n",
       " 'CGPA_std',\n",
       " 'CGPA_std',\n",
       " 'CGPA_std',\n",
       " 'GRE_std',\n",
       " 'GRE_std',\n",
       " 'LOR_std',\n",
       " 'CGPA_std',\n",
       " 'GRE_std',\n",
       " 'GRE_std',\n",
       " 'GRE_std',\n",
       " 'CGPA_std',\n",
       " 'GRE_std',\n",
       " 'GRE_std',\n",
       " 'GRE_std',\n",
       " 'CGPA_std',\n",
       " 'CGPA_std',\n",
       " 'LOR_std',\n",
       " 'CGPA_std',\n",
       " 'LOR_std',\n",
       " 'LOR_std',\n",
       " 'LOR_std',\n",
       " 'LOR_std',\n",
       " 'CGPA_std',\n",
       " 'CGPA_std',\n",
       " 'GRE_std',\n",
       " 'GRE_std',\n",
       " 'CGPA_std',\n",
       " 'CGPA_std',\n",
       " 'CGPA_std',\n",
       " 'GRE_std',\n",
       " 'GRE_std',\n",
       " 'GRE_std',\n",
       " 'GRE_std',\n",
       " 'GRE_std',\n",
       " 'CGPA_std',\n",
       " 'GRE_std',\n",
       " 'LOR_std',\n",
       " 'GRE_std',\n",
       " 'GRE_std',\n",
       " 'GRE_std',\n",
       " 'CGPA_std',\n",
       " 'GRE_std',\n",
       " 'LOR_std',\n",
       " 'CGPA_std',\n",
       " 'LOR_std',\n",
       " 'CGPA_std',\n",
       " 'LOR_std',\n",
       " 'CGPA_std',\n",
       " 'LOR_std',\n",
       " 'CGPA_std',\n",
       " 'CGPA_std',\n",
       " 'CGPA_std',\n",
       " 'LOR_std',\n",
       " 'CGPA_std',\n",
       " 'GRE_std',\n",
       " 'LOR_std',\n",
       " 'GRE_std',\n",
       " 'LOR_std',\n",
       " 'CGPA_std',\n",
       " 'GRE_std',\n",
       " 'CGPA_std',\n",
       " 'GRE_std',\n",
       " 'LOR_std',\n",
       " 'GRE_std',\n",
       " 'CGPA_std',\n",
       " 'GRE_std',\n",
       " 'CGPA_std',\n",
       " 'CGPA_std',\n",
       " 'GRE_std',\n",
       " 'GRE_std',\n",
       " 'CGPA_std',\n",
       " 'CGPA_std',\n",
       " 'GRE_std',\n",
       " 'LOR_std',\n",
       " 'LOR_std',\n",
       " 'GRE_std',\n",
       " 'LOR_std',\n",
       " 'CGPA_std',\n",
       " 'CGPA_std',\n",
       " 'CGPA_std',\n",
       " 'LOR_std',\n",
       " 'CGPA_std',\n",
       " 'CGPA_std',\n",
       " 'CGPA_std',\n",
       " 'CGPA_std',\n",
       " 'GRE_std',\n",
       " 'CGPA_std',\n",
       " 'GRE_std',\n",
       " 'GRE_std',\n",
       " 'LOR_std',\n",
       " 'LOR_std',\n",
       " 'LOR_std',\n",
       " 'CGPA_std',\n",
       " 'CGPA_std',\n",
       " 'GRE_std',\n",
       " 'CGPA_std',\n",
       " 'GRE_std',\n",
       " 'LOR_std',\n",
       " 'GRE_std',\n",
       " 'CGPA_std',\n",
       " 'CGPA_std',\n",
       " 'LOR_std']"
      ]
     },
     "execution_count": 15,
     "metadata": {},
     "output_type": "execute_result"
    }
   ],
   "source": [
    "# Your code here:\n",
    "decision_choice\n"
   ]
  },
  {
   "cell_type": "code",
   "execution_count": 16,
   "metadata": {},
   "outputs": [],
   "source": [
    "admissions['deciding_column'] =admissions.lookup(admissions.index, decision_choice)"
   ]
  },
  {
   "cell_type": "markdown",
   "metadata": {},
   "source": [
    "Create a column called `decision` in the `admissions` dataframe. Assign 1 to this column if the value of `deciding_column` is greater than 0.8 and 0 otherwise."
   ]
  },
  {
   "cell_type": "code",
   "execution_count": 17,
   "metadata": {},
   "outputs": [],
   "source": [
    "# Your code here:\n",
    "\n",
    "admissions['decision'] = np.where(admissions.deciding_column > 0.8, 1, 0)"
   ]
  },
  {
   "cell_type": "markdown",
   "metadata": {},
   "source": [
    "How many applicants will be accepted to the program using the decision column? Compute the result below."
   ]
  },
  {
   "cell_type": "code",
   "execution_count": 18,
   "metadata": {},
   "outputs": [
    {
     "data": {
      "text/plain": [
       "0    206\n",
       "1     66\n",
       "Name: decision, dtype: int64"
      ]
     },
     "execution_count": 18,
     "metadata": {},
     "output_type": "execute_result"
    }
   ],
   "source": [
    "# Your code here:\n",
    "\n",
    "admissions.decision.value_counts()"
   ]
  },
  {
   "cell_type": "markdown",
   "metadata": {},
   "source": [
    "# Challenge 3 - Method Chaining\n",
    "\n",
    "To increase our coding efficiency, let's make a number of changes to our dataframe in one line of code.\n",
    "\n",
    "In the cell below, remove all non character symbols from the column names, replace all spaces in column names to underscores, and change all upper case characters to lower case. Assign these new column values to `admissions.columns`."
   ]
  },
  {
   "cell_type": "code",
   "execution_count": 19,
   "metadata": {},
   "outputs": [],
   "source": [
    "admissions.columns = (admissions.columns\n",
    "                            .str.replace(' ', '_')\n",
    "                            .str.replace('.', '')\n",
    "                            .str.lower())\n"
   ]
  },
  {
   "cell_type": "markdown",
   "metadata": {},
   "source": [
    "In the cell below, give all student with a university rating of 4 or higher a 10 point boost on their GRE score and split the column into 4 bins using the `cut` function. Assign this new score to the variable `adjusted_gre`."
   ]
  },
  {
   "cell_type": "code",
   "execution_count": 21,
   "metadata": {},
   "outputs": [],
   "source": [
    "admissions['adjusted_gre'] = pd.cut(np.where(admissions.university_rating >=4, admissions.gre_score + 10, admissions.gre_score), bins=4)\n"
   ]
  },
  {
   "cell_type": "code",
   "execution_count": 22,
   "metadata": {},
   "outputs": [
    {
     "data": {
      "text/html": [
       "<div>\n",
       "<style scoped>\n",
       "    .dataframe tbody tr th:only-of-type {\n",
       "        vertical-align: middle;\n",
       "    }\n",
       "\n",
       "    .dataframe tbody tr th {\n",
       "        vertical-align: top;\n",
       "    }\n",
       "\n",
       "    .dataframe thead th {\n",
       "        text-align: right;\n",
       "    }\n",
       "</style>\n",
       "<table border=\"1\" class=\"dataframe\">\n",
       "  <thead>\n",
       "    <tr style=\"text-align: right;\">\n",
       "      <th></th>\n",
       "      <th>gre_score</th>\n",
       "      <th>toefl_score</th>\n",
       "      <th>university_rating</th>\n",
       "      <th>sop</th>\n",
       "      <th>lor</th>\n",
       "      <th>cgpa</th>\n",
       "      <th>research</th>\n",
       "      <th>chance_of_admit</th>\n",
       "      <th>cgpa_std</th>\n",
       "      <th>gre_std</th>\n",
       "      <th>lor_std</th>\n",
       "      <th>deciding_column</th>\n",
       "      <th>decision</th>\n",
       "      <th>adjusted_gre</th>\n",
       "    </tr>\n",
       "  </thead>\n",
       "  <tbody>\n",
       "    <tr>\n",
       "      <th>0</th>\n",
       "      <td>337</td>\n",
       "      <td>118</td>\n",
       "      <td>4</td>\n",
       "      <td>4.5</td>\n",
       "      <td>4.5</td>\n",
       "      <td>9.65</td>\n",
       "      <td>1</td>\n",
       "      <td>0.92</td>\n",
       "      <td>1.728179</td>\n",
       "      <td>1.736205</td>\n",
       "      <td>1.151800</td>\n",
       "      <td>1.728179</td>\n",
       "      <td>1</td>\n",
       "      <td>(335.0, 350.0]</td>\n",
       "    </tr>\n",
       "    <tr>\n",
       "      <th>1</th>\n",
       "      <td>316</td>\n",
       "      <td>104</td>\n",
       "      <td>3</td>\n",
       "      <td>3.0</td>\n",
       "      <td>3.5</td>\n",
       "      <td>8.00</td>\n",
       "      <td>1</td>\n",
       "      <td>0.72</td>\n",
       "      <td>-0.902066</td>\n",
       "      <td>-0.004571</td>\n",
       "      <td>0.075203</td>\n",
       "      <td>-0.004571</td>\n",
       "      <td>0</td>\n",
       "      <td>(305.0, 320.0]</td>\n",
       "    </tr>\n",
       "    <tr>\n",
       "      <th>2</th>\n",
       "      <td>322</td>\n",
       "      <td>110</td>\n",
       "      <td>3</td>\n",
       "      <td>3.5</td>\n",
       "      <td>2.5</td>\n",
       "      <td>8.67</td>\n",
       "      <td>1</td>\n",
       "      <td>0.80</td>\n",
       "      <td>0.165973</td>\n",
       "      <td>0.492793</td>\n",
       "      <td>-1.001393</td>\n",
       "      <td>0.165973</td>\n",
       "      <td>0</td>\n",
       "      <td>(320.0, 335.0]</td>\n",
       "    </tr>\n",
       "    <tr>\n",
       "      <th>3</th>\n",
       "      <td>314</td>\n",
       "      <td>103</td>\n",
       "      <td>2</td>\n",
       "      <td>2.0</td>\n",
       "      <td>3.0</td>\n",
       "      <td>8.21</td>\n",
       "      <td>0</td>\n",
       "      <td>0.65</td>\n",
       "      <td>-0.567308</td>\n",
       "      <td>-0.170360</td>\n",
       "      <td>-0.463095</td>\n",
       "      <td>-0.463095</td>\n",
       "      <td>0</td>\n",
       "      <td>(305.0, 320.0]</td>\n",
       "    </tr>\n",
       "    <tr>\n",
       "      <th>4</th>\n",
       "      <td>330</td>\n",
       "      <td>115</td>\n",
       "      <td>5</td>\n",
       "      <td>4.5</td>\n",
       "      <td>3.0</td>\n",
       "      <td>9.34</td>\n",
       "      <td>1</td>\n",
       "      <td>0.90</td>\n",
       "      <td>1.234011</td>\n",
       "      <td>1.155946</td>\n",
       "      <td>-0.463095</td>\n",
       "      <td>1.155946</td>\n",
       "      <td>1</td>\n",
       "      <td>(335.0, 350.0]</td>\n",
       "    </tr>\n",
       "  </tbody>\n",
       "</table>\n",
       "</div>"
      ],
      "text/plain": [
       "   gre_score  toefl_score  university_rating  sop  lor  cgpa  research  \\\n",
       "0        337          118                  4  4.5  4.5  9.65         1   \n",
       "1        316          104                  3  3.0  3.5  8.00         1   \n",
       "2        322          110                  3  3.5  2.5  8.67         1   \n",
       "3        314          103                  2  2.0  3.0  8.21         0   \n",
       "4        330          115                  5  4.5  3.0  9.34         1   \n",
       "\n",
       "   chance_of_admit  cgpa_std   gre_std   lor_std  deciding_column  decision  \\\n",
       "0             0.92  1.728179  1.736205  1.151800         1.728179         1   \n",
       "1             0.72 -0.902066 -0.004571  0.075203        -0.004571         0   \n",
       "2             0.80  0.165973  0.492793 -1.001393         0.165973         0   \n",
       "3             0.65 -0.567308 -0.170360 -0.463095        -0.463095         0   \n",
       "4             0.90  1.234011  1.155946 -0.463095         1.155946         1   \n",
       "\n",
       "     adjusted_gre  \n",
       "0  (335.0, 350.0]  \n",
       "1  (305.0, 320.0]  \n",
       "2  (320.0, 335.0]  \n",
       "3  (305.0, 320.0]  \n",
       "4  (335.0, 350.0]  "
      ]
     },
     "execution_count": 22,
     "metadata": {},
     "output_type": "execute_result"
    }
   ],
   "source": [
    "admissions.head()\n"
   ]
  },
  {
   "cell_type": "code",
   "execution_count": null,
   "metadata": {},
   "outputs": [],
   "source": []
  }
 ],
 "metadata": {
  "kernelspec": {
   "display_name": "Python 3",
   "language": "python",
   "name": "python3"
  },
  "language_info": {
   "codemirror_mode": {
    "name": "ipython",
    "version": 3
   },
   "file_extension": ".py",
   "mimetype": "text/x-python",
   "name": "python",
   "nbconvert_exporter": "python",
   "pygments_lexer": "ipython3",
   "version": "3.7.3"
  }
 },
 "nbformat": 4,
 "nbformat_minor": 2
}
